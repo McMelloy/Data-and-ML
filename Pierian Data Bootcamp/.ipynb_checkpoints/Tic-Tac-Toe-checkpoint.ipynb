{
 "cells": [
  {
   "cell_type": "code",
   "execution_count": 1,
   "metadata": {},
   "outputs": [],
   "source": [
    "def print_board(board):\n",
    "    for i in range(3):\n",
    "        for j in range(3):\n",
    "            if board[i][j]==0:\n",
    "                print('_',end = '')\n",
    "            else:\n",
    "                print(board[i][j],end = '')\n",
    "            print('|',end = '')\n",
    "        print('')"
   ]
  },
  {
   "cell_type": "code",
   "execution_count": 10,
   "metadata": {},
   "outputs": [],
   "source": [
    "def markcheck(board,mark):\n",
    "    return ((board[6] == mark and board[7] == mark and board[8] == mark) or # across the top\n",
    "    (board[3] == mark and board[4] == mark and board[5] == mark) or # across the middle\n",
    "    (board[0] == mark and board[1] == mark and board[2] == mark) or # across the bottom\n",
    "    (board[6] == mark and board[3] == mark and board[0] == mark) or # down the middle\n",
    "    (board[7] == mark and board[4] == mark and board[1] == mark) or # down the middle\n",
    "    (board[8] == mark and board[5] == mark and board[2] == mark) or # down the right side\n",
    "    (board[6] == mark and board[4] == mark and board[2] == mark) or # diagonal\n",
    "    (board[8] == mark and board[4] == mark and board[0] == mark)) "
   ]
  },
  {
   "cell_type": "code",
   "execution_count": 12,
   "metadata": {},
   "outputs": [],
   "source": [
    "def endgame(board):\n",
    "    flatboard = [item for sublist in board for item in sublist]\n",
    "    if 0 not in flatboard:\n",
    "        return True\n",
    "    return markcheck(flatboard,'O') or markcheck(flatboard,'X')"
   ]
  },
  {
   "cell_type": "code",
   "execution_count": 4,
   "metadata": {},
   "outputs": [],
   "source": [
    "def game():\n",
    "    board = [[0,0,0],[0,0,0],[0,0,0]]\n",
    "    cur_player = 2\n",
    "    while not endgame(board):\n",
    "        cur_player = 1 if cur_player == 2 else 2\n",
    "        print('Player {}, your move!'.format(cur_player))\n",
    "        print_board(board)\n",
    "        inputed = False\n",
    "        while not inputed:\n",
    "            in_i = int(input('Input row'))\n",
    "            in_j = int(input('Input column'))\n",
    "            if board[in_i][in_j]==0:\n",
    "                if cur_player == 1:\n",
    "                    board[in_i][in_j]='X'\n",
    "                else:\n",
    "                    board[in_i][in_j]='O'\n",
    "                inputed = True\n",
    "            else:\n",
    "                print('Please input correct data')\n",
    "    print('Congrats, Player {}!'.format(cur_player))"
   ]
  },
  {
   "cell_type": "code",
   "execution_count": 13,
   "metadata": {},
   "outputs": [
    {
     "name": "stdout",
     "output_type": "stream",
     "text": [
      "Player 1, your move!\n",
      "_|_|_|\n",
      "_|_|_|\n",
      "_|_|_|\n",
      "Input row1\n",
      "Input column0\n",
      "Player 2, your move!\n",
      "_|_|_|\n",
      "X|_|_|\n",
      "_|_|_|\n",
      "Input row2\n",
      "Input column0\n",
      "Player 1, your move!\n",
      "_|_|_|\n",
      "X|_|_|\n",
      "O|_|_|\n",
      "Input row1\n",
      "Input column1\n",
      "Player 2, your move!\n",
      "_|_|_|\n",
      "X|X|_|\n",
      "O|_|_|\n",
      "Input row2\n",
      "Input column1\n",
      "Player 1, your move!\n",
      "_|_|_|\n",
      "X|X|_|\n",
      "O|O|_|\n",
      "Input row1\n",
      "Input column2\n",
      "Congrats, Player 1!\n"
     ]
    }
   ],
   "source": [
    "game()"
   ]
  },
  {
   "cell_type": "code",
   "execution_count": null,
   "metadata": {},
   "outputs": [],
   "source": []
  }
 ],
 "metadata": {
  "kernelspec": {
   "display_name": "Python 3",
   "language": "python",
   "name": "python3"
  },
  "language_info": {
   "codemirror_mode": {
    "name": "ipython",
    "version": 3
   },
   "file_extension": ".py",
   "mimetype": "text/x-python",
   "name": "python",
   "nbconvert_exporter": "python",
   "pygments_lexer": "ipython3",
   "version": "3.7.4"
  }
 },
 "nbformat": 4,
 "nbformat_minor": 2
}
