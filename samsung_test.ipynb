{
 "cells": [
  {
   "cell_type": "code",
   "execution_count": 12,
   "metadata": {},
   "outputs": [
    {
     "name": "stdout",
     "output_type": "stream",
     "text": [
      "['We', 'test', 'coders']\n",
      "eW tset sredoc \n"
     ]
    }
   ],
   "source": [
    "S = 'We test coders'\n",
    "words = S.split(' ')\n",
    "words = list(words)\n",
    "res = ''\n",
    "for word in words:\n",
    "    word = list(word)\n",
    "    word.reverse()\n",
    "    sword = \"\".join(word)\n",
    "    res+=sword+' '\n",
    "res.strip()\n",
    "print(res)"
   ]
  },
  {
   "cell_type": "code",
   "execution_count": 16,
   "metadata": {},
   "outputs": [
    {
     "name": "stdout",
     "output_type": "stream",
     "text": [
      "(10, 3)\n"
     ]
    }
   ],
   "source": [
    "from collections import Counter\n",
    "A =[10,20,30,40,20,10,40,50,10]\n",
    "ctr = Counter(A)\n",
    "temp = sorted(ctr.items(),key=lambda x:x[1],reverse=True)\n",
    "print(temp[0][0])"
   ]
  },
  {
   "cell_type": "code",
   "execution_count": null,
   "metadata": {},
   "outputs": [],
   "source": []
  }
 ],
 "metadata": {
  "kernelspec": {
   "display_name": "Python 3",
   "language": "python",
   "name": "python3"
  },
  "language_info": {
   "codemirror_mode": {
    "name": "ipython",
    "version": 3
   },
   "file_extension": ".py",
   "mimetype": "text/x-python",
   "name": "python",
   "nbconvert_exporter": "python",
   "pygments_lexer": "ipython3",
   "version": "3.7.4"
  }
 },
 "nbformat": 4,
 "nbformat_minor": 2
}
